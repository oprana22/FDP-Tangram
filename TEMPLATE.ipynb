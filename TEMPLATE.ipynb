{
 "cells": [
  {
   "cell_type": "markdown",
   "id": "c7248f17",
   "metadata": {},
   "source": [
    "# Imports"
   ]
  },
  {
   "cell_type": "code",
   "execution_count": null,
   "id": "c857c587",
   "metadata": {},
   "outputs": [],
   "source": [
    "import scanpy as sc\n",
    "import squidpy as sq\n",
    "import numpy as np\n",
    "import pandas as pd\n",
    "from anndata import AnnData\n",
    "import pathlib\n",
    "import matplotlib.pyplot as plt\n",
    "import matplotlib as mpl\n",
    "import skimage\n",
    "import seaborn as sns\n",
    "import tangram as tg\n",
    "\n",
    "%load_ext autoreload\n",
    "%autoreload 2\n",
    "%matplotlib inline"
   ]
  },
  {
   "cell_type": "markdown",
   "id": "286d55ae",
   "metadata": {},
   "source": [
    "# Load data  "
   ]
  },
  {
   "cell_type": "code",
   "execution_count": null,
   "id": "de084970",
   "metadata": {},
   "outputs": [],
   "source": [
    "adata_st = sq.datasets.visium_fluo_adata_crop()\n",
    "adata_st = adata_st[\n",
    "    adata_st.obs.cluster.isin([f\"Cortex_{i}\" for i in np.arange(1, 5)])\n",
    "].copy()\n",
    "img = sq.datasets.visium_fluo_image_crop()\n",
    "\n",
    "adata_sc = sq.datasets.sc_mouse_cortex()"
   ]
  },
  {
   "cell_type": "markdown",
   "id": "42095f77",
   "metadata": {},
   "source": [
    "# Get training genes"
   ]
  },
  {
   "cell_type": "code",
   "execution_count": null,
   "id": "f438591e",
   "metadata": {},
   "outputs": [],
   "source": [
    "sc.tl.rank_genes_groups(adata_sc, groupby=\"cell_subclass\", use_raw=False)\n",
    "markers_df = pd.DataFrame(adata_sc.uns[\"rank_genes_groups\"][\"names\"]).iloc[0:100, :]\n",
    "markers = list(np.unique(markers_df.melt().value.values))\n",
    "len(markers)"
   ]
  },
  {
   "cell_type": "markdown",
   "id": "a1a08db8",
   "metadata": {},
   "source": [
    "# Prepare and run mapping"
   ]
  },
  {
   "cell_type": "code",
   "execution_count": null,
   "id": "88efdf82",
   "metadata": {},
   "outputs": [],
   "source": [
    "tg.pp_adatas(adata_sc, adata_st, genes=markers)\n",
    "\n",
    "ad_map = tg.map_cells_to_space(adata_sc, adata_st,\n",
    "    mode=\"cells\",\n",
    "#     mode=\"clusters\",\n",
    "#     cluster_label='cell_subclass',  # .obs field w cell types\n",
    "    density_prior='rna_count_based',\n",
    "    num_epochs=500,\n",
    "#     device=\"cuda:0\",\n",
    "    device='cpu',\n",
    ")"
   ]
  }
 ],
 "metadata": {
  "kernelspec": {
   "display_name": "Python [conda env:tangram-env] *",
   "language": "python",
   "name": "conda-env-tangram-env-py"
  },
  "language_info": {
   "codemirror_mode": {
    "name": "ipython",
    "version": 3
   },
   "file_extension": ".py",
   "mimetype": "text/x-python",
   "name": "python",
   "nbconvert_exporter": "python",
   "pygments_lexer": "ipython3",
   "version": "3.8.20"
  }
 },
 "nbformat": 4,
 "nbformat_minor": 5
}
