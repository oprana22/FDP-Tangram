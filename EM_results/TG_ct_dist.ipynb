{
 "cells": [
  {
   "cell_type": "markdown",
   "id": "c7248f17",
   "metadata": {},
   "source": [
    "# Imports"
   ]
  },
  {
   "cell_type": "code",
   "execution_count": 1,
   "id": "c857c587",
   "metadata": {},
   "outputs": [
    {
     "name": "stderr",
     "output_type": "stream",
     "text": [
      "/home/apon/anaconda3/envs/tangram-env/lib/python3.8/site-packages/tqdm/auto.py:21: TqdmWarning: IProgress not found. Please update jupyter and ipywidgets. See https://ipywidgets.readthedocs.io/en/stable/user_install.html\n",
      "  from .autonotebook import tqdm as notebook_tqdm\n"
     ]
    }
   ],
   "source": [
    "import scanpy as sc\n",
    "import squidpy as sq\n",
    "import numpy as np\n",
    "import pandas as pd\n",
    "from anndata import AnnData\n",
    "import pathlib\n",
    "import matplotlib.pyplot as plt\n",
    "import matplotlib as mpl\n",
    "import skimage\n",
    "import seaborn as sns\n",
    "import tangram as tg\n",
    "from collections import Counter\n",
    "from collections import defaultdict\n",
    "import json\n",
    "\n",
    "%load_ext autoreload\n",
    "%autoreload 2\n",
    "%matplotlib inline"
   ]
  },
  {
   "cell_type": "markdown",
   "id": "286d55ae",
   "metadata": {},
   "source": [
    "# Load data  "
   ]
  },
  {
   "cell_type": "markdown",
   "id": "368542c0",
   "metadata": {},
   "source": [
    "### Tangram Tutorial Data"
   ]
  },
  {
   "cell_type": "code",
   "execution_count": 2,
   "id": "de084970",
   "metadata": {},
   "outputs": [],
   "source": [
    "adata_st = sq.datasets.visium_fluo_adata_crop()\n",
    "adata_st = adata_st[\n",
    "    adata_st.obs.cluster.isin([f\"Cortex_{i}\" for i in np.arange(1, 5)])\n",
    "].copy()\n",
    "img = sq.datasets.visium_fluo_image_crop()\n",
    "\n",
    "adata_sc = sq.datasets.sc_mouse_cortex()"
   ]
  },
  {
   "cell_type": "markdown",
   "id": "42095f77",
   "metadata": {},
   "source": [
    "# Get training genes"
   ]
  },
  {
   "cell_type": "code",
   "execution_count": 3,
   "id": "f438591e",
   "metadata": {},
   "outputs": [
    {
     "name": "stdout",
     "output_type": "stream",
     "text": [
      "WARNING: Default of the method has been changed to 't-test' from 't-test_overestim_var'\n"
     ]
    },
    {
     "data": {
      "text/plain": [
       "1401"
      ]
     },
     "execution_count": 3,
     "metadata": {},
     "output_type": "execute_result"
    }
   ],
   "source": [
    "sc.tl.rank_genes_groups(adata_sc, groupby=\"cell_subclass\", use_raw=False)\n",
    "markers_df = pd.DataFrame(adata_sc.uns[\"rank_genes_groups\"][\"names\"]).iloc[0:100, :]\n",
    "markers = list(np.unique(markers_df.melt().value.values))\n",
    "len(markers)"
   ]
  },
  {
   "cell_type": "markdown",
   "id": "a1a08db8",
   "metadata": {},
   "source": [
    "# Prepare and run mapping"
   ]
  },
  {
   "cell_type": "code",
   "execution_count": 5,
   "id": "88efdf82",
   "metadata": {},
   "outputs": [
    {
     "name": "stderr",
     "output_type": "stream",
     "text": [
      "INFO:root:1280 training genes are saved in `uns``training_genes` of both single cell and spatial Anndatas.\n",
      "INFO:root:14785 overlapped genes are saved in `uns``overlap_genes` of both single cell and spatial Anndatas.\n",
      "INFO:root:uniform based density prior is calculated and saved in `obs``uniform_density` of the spatial Anndata.\n",
      "INFO:root:rna count based density prior is calculated and saved in `obs``rna_count_based_density` of the spatial Anndata.\n",
      "INFO:root:Allocate tensors for mapping.\n",
      "INFO:root:Begin training with 1280 genes and rna_count_based density_prior in cells mode...\n",
      "INFO:root:Printing scores every 100 epochs.\n"
     ]
    },
    {
     "name": "stdout",
     "output_type": "stream",
     "text": [
      "Score: 0.613, VG reg: 0.798, KL reg: 0.001\n",
      "Score: 0.733, VG reg: 0.807, KL reg: 0.000\n",
      "Score: 0.736, VG reg: 0.807, KL reg: 0.000\n",
      "Score: 0.736, VG reg: 0.807, KL reg: 0.000\n"
     ]
    },
    {
     "name": "stderr",
     "output_type": "stream",
     "text": [
      "INFO:root:Saving results..\n"
     ]
    }
   ],
   "source": [
    "tg.pp_adatas(adata_sc, adata_st, genes=markers)\n",
    "\n",
    "ad_map = tg.map_cells_to_space(adata_sc, adata_st,\n",
    "    mode=\"cells\",\n",
    "    density_prior='rna_count_based',\n",
    "    lambda_d = 0.89,\n",
    "    lambda_g2 = 0.99,\n",
    "    num_epochs=350,\n",
    "    device='cpu',\n",
    ")"
   ]
  },
  {
   "cell_type": "markdown",
   "id": "487c0f26",
   "metadata": {},
   "source": [
    "# All voxel celltype distribution without threshold"
   ]
  },
  {
   "cell_type": "code",
   "execution_count": 6,
   "id": "5e8ce5b0",
   "metadata": {},
   "outputs": [],
   "source": [
    "cell_types = list(adata_sc.obs[\"cell_subclass\"].unique()) #celltypes in sc data\n",
    "num_cell_types = len(cell_types)\n",
    "num_voxels = ad_map.n_vars \n",
    "\n",
    "ct_dist_matrix = np.zeros((num_cell_types, num_voxels)) #init np array with dim (n_ct x n_voxels)\n",
    "weighted_counts = defaultdict(float)\n",
    "\n",
    "\n",
    "#CELLTYPE DISTRIBUTIONS\n",
    "for i in range(num_voxels):\n",
    "    indices = np.where(ad_map.X[:, i] > 0.0)[0]  # Cells mapped to voxel i \n",
    "    \n",
    "    if len(indices) > 0:\n",
    "        \n",
    "        for cell in indices:\n",
    "            weighted_counts[ad_map.obs.cell_subclass.iloc[cell]] += ad_map.X[cell, i] #votes are weighted by map prob\n",
    "        \n",
    "        total = sum(weighted_counts.values()) #total to calculate distributions\n",
    "        \n",
    "        for cell_type, count in weighted_counts.items():\n",
    "            row_idx = cell_types.index(cell_type)  #get index for a given celltype\n",
    "            ct_dist_matrix[row_idx, i] = count / total  #write value\n",
    "\n",
    "\n",
    "ct_dist_matrix = np.array(ct_dist_matrix) #convert to np array\n",
    "np.save(\"results/TG.npy\", ct_dist_matrix)"
   ]
  }
 ],
 "metadata": {
  "kernelspec": {
   "display_name": "Python [conda env:tangram-env] *",
   "language": "python",
   "name": "conda-env-tangram-env-py"
  },
  "language_info": {
   "codemirror_mode": {
    "name": "ipython",
    "version": 3
   },
   "file_extension": ".py",
   "mimetype": "text/x-python",
   "name": "python",
   "nbconvert_exporter": "python",
   "pygments_lexer": "ipython3",
   "version": "3.8.20"
  }
 },
 "nbformat": 4,
 "nbformat_minor": 5
}
