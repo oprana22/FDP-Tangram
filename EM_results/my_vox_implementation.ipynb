{
 "cells": [
  {
   "cell_type": "code",
   "execution_count": 1,
   "id": "cb46903e",
   "metadata": {},
   "outputs": [
    {
     "name": "stderr",
     "output_type": "stream",
     "text": [
      "/home/apon/anaconda3/envs/tangram-env/lib/python3.8/site-packages/tqdm/auto.py:21: TqdmWarning: IProgress not found. Please update jupyter and ipywidgets. See https://ipywidgets.readthedocs.io/en/stable/user_install.html\n",
      "  from .autonotebook import tqdm as notebook_tqdm\n"
     ]
    }
   ],
   "source": [
    "import scanpy as sc\n",
    "import numpy as np\n",
    "import matplotlib.pyplot as plt\n",
    "import matplotlib as mpl\n",
    "import squidpy as sq\n",
    "from sklearn.metrics.pairwise import cosine_similarity\n",
    "import statistics\n",
    "import pandas as pd\n",
    "import json\n",
    "import pickle\n",
    "from anndata import AnnData\n",
    "import pathlib\n",
    "import skimage\n",
    "import seaborn as sns\n",
    "import tangram as tg\n",
    "from scipy.spatial import distance"
   ]
  },
  {
   "cell_type": "code",
   "execution_count": 3,
   "id": "ae995c38",
   "metadata": {},
   "outputs": [],
   "source": [
    "adata = sc.read_h5ad(\"../lucas_data/real_st_spapros_merfish.h5ad\")"
   ]
  },
  {
   "cell_type": "code",
   "execution_count": 4,
   "id": "5664129b",
   "metadata": {},
   "outputs": [],
   "source": [
    "x_coords = adata.obs['X'].values\n",
    "y_coords = adata.obs['Y'].values\n",
    "\n",
    "x_min, x_max = np.min(x_coords), np.max(x_coords)\n",
    "y_min, y_max = np.min(y_coords), np.max(y_coords)\n",
    "ratio = (x_max - x_min) / (y_max - y_min)\n",
    "\n",
    "# Choose grid dimensions (193x3 or 3x193) based on aspect ratio\n",
    "log_ratio = np.log(ratio)\n",
    "if abs(log_ratio - np.log(193/3)) <= abs(log_ratio - np.log(3/193)):\n",
    "    n_x, n_y = 193, 3  # Wide grid\n",
    "else:\n",
    "    n_x, n_y = 3, 193  # Tall grid\n",
    "\n",
    "# Generate bin edges for the grid\n",
    "x_bins = np.linspace(x_min, x_max, n_x + 1)\n",
    "y_bins = np.linspace(y_min, y_max, n_y + 1)\n",
    "\n",
    "# Assign cells to voxels using digitization\n",
    "x_bin_indices = np.digitize(x_coords, x_bins) - 1\n",
    "y_bin_indices = np.digitize(y_coords, y_bins) - 1\n",
    "\n",
    "# Clip indices to handle edge cases (values at max bounds)\n",
    "x_bin_indices = np.clip(x_bin_indices, 0, n_x - 1)\n",
    "y_bin_indices = np.clip(y_bin_indices, 0, n_y - 1)\n",
    "\n",
    "# Calculate unique voxel ID for each cell (0 to 578)\n",
    "voxel_ids = y_bin_indices * n_x + x_bin_indices\n",
    "\n",
    "# Add voxel assignments to the AnnData object\n",
    "adata.obs['voxel'] = voxel_ids\n"
   ]
  },
  {
   "cell_type": "code",
   "execution_count": 9,
   "id": "f3ea8f44",
   "metadata": {},
   "outputs": [
    {
     "data": {
      "text/plain": [
       "Cell\n",
       "Cell_1         0\n",
       "Cell_2         0\n",
       "Cell_3         3\n",
       "Cell_4         9\n",
       "Cell_5         0\n",
       "            ... \n",
       "Cell_5796    328\n",
       "Cell_5797    314\n",
       "Cell_5798    136\n",
       "Cell_5799    575\n",
       "Cell_5800    542\n",
       "Name: voxel, Length: 5793, dtype: int64"
      ]
     },
     "execution_count": 9,
     "metadata": {},
     "output_type": "execute_result"
    }
   ],
   "source": [
    "adata.obs['voxel']"
   ]
  }
 ],
 "metadata": {
  "kernelspec": {
   "display_name": "Python [conda env:tangram-env] *",
   "language": "python",
   "name": "conda-env-tangram-env-py"
  },
  "language_info": {
   "codemirror_mode": {
    "name": "ipython",
    "version": 3
   },
   "file_extension": ".py",
   "mimetype": "text/x-python",
   "name": "python",
   "nbconvert_exporter": "python",
   "pygments_lexer": "ipython3",
   "version": "3.8.20"
  }
 },
 "nbformat": 4,
 "nbformat_minor": 5
}
