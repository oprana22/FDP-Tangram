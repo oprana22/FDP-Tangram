{
 "cells": [
  {
   "cell_type": "markdown",
   "id": "c7248f17",
   "metadata": {},
   "source": [
    "# Imports"
   ]
  },
  {
   "cell_type": "code",
   "execution_count": 2,
   "id": "c857c587",
   "metadata": {},
   "outputs": [
    {
     "name": "stdout",
     "output_type": "stream",
     "text": [
      "The autoreload extension is already loaded. To reload it, use:\n",
      "  %reload_ext autoreload\n"
     ]
    }
   ],
   "source": [
    "import scanpy as sc\n",
    "import squidpy as sq\n",
    "import numpy as np\n",
    "import pandas as pd\n",
    "from anndata import AnnData\n",
    "import pathlib\n",
    "import matplotlib.pyplot as plt\n",
    "import matplotlib as mpl\n",
    "import skimage\n",
    "import seaborn as sns\n",
    "import tangram as tg\n",
    "from sklearn.metrics.pairwise import cosine_similarity, euclidean_distances\n",
    "from sklearn.metrics import mean_squared_error\n",
    "import os\n",
    "\n",
    "%load_ext autoreload\n",
    "%autoreload 2\n",
    "%matplotlib inline"
   ]
  },
  {
   "cell_type": "markdown",
   "id": "286d55ae",
   "metadata": {},
   "source": [
    "# Load data  "
   ]
  },
  {
   "cell_type": "markdown",
   "id": "ffc13092",
   "metadata": {},
   "source": [
    "### Lucas Data"
   ]
  },
  {
   "cell_type": "code",
   "execution_count": 3,
   "id": "e7712e49",
   "metadata": {},
   "outputs": [],
   "source": [
    "os.makedirs('results', exist_ok=True)"
   ]
  },
  {
   "cell_type": "code",
   "execution_count": 4,
   "id": "fe77acda",
   "metadata": {},
   "outputs": [],
   "source": [
    "adata_st = sc.read('../lucas_data/Visium_Mouse_Brain_SPAPROS_filtered_celltypes_annotated.h5ad')\n",
    "\n",
    "adata_sc = sc.read('../lucas_data/SC_REF_for_VISIUM_preprocessed.h5ad')"
   ]
  },
  {
   "cell_type": "code",
   "execution_count": 5,
   "id": "2218a1a6",
   "metadata": {},
   "outputs": [
    {
     "data": {
      "text/plain": [
       "AnnData object with n_obs × n_vars = 2695 × 800\n",
       "    obs: 'X', 'Y', 'cell_type', 'Cell_type', 'Cell_Type'\n",
       "    var: 'gene_id', 'p_val', 'q_val'\n",
       "    uns: 'X_name', 'centroids'\n",
       "    obsm: 'cell_type_distribution', 'cell_type_distributions', 'spatial'"
      ]
     },
     "execution_count": 5,
     "metadata": {},
     "output_type": "execute_result"
    }
   ],
   "source": [
    "#DELETE\n",
    "adata_st"
   ]
  },
  {
   "cell_type": "code",
   "execution_count": 6,
   "id": "2648e354",
   "metadata": {},
   "outputs": [],
   "source": [
    "adata_st = adata_st[:500, :].copy() #mock data to test if works\n",
    "\n",
    "adata_sc = adata_sc[:, adata_sc.var_names.isin(adata_st.var_names)].copy()\n",
    "adata_sc = adata_sc[:500, :].copy()"
   ]
  },
  {
   "cell_type": "code",
   "execution_count": 7,
   "id": "e5bd10cd",
   "metadata": {},
   "outputs": [
    {
     "name": "stderr",
     "output_type": "stream",
     "text": [
      "INFO:root:760 training genes are saved in `uns``training_genes` of both single cell and spatial Anndatas.\n",
      "INFO:root:760 overlapped genes are saved in `uns``overlap_genes` of both single cell and spatial Anndatas.\n",
      "INFO:root:uniform based density prior is calculated and saved in `obs``uniform_density` of the spatial Anndata.\n",
      "INFO:root:rna count based density prior is calculated and saved in `obs``rna_count_based_density` of the spatial Anndata.\n"
     ]
    }
   ],
   "source": [
    "tg.pp_adatas(adata_sc, adata_st, genes=None) #prepare for mapping."
   ]
  },
  {
   "cell_type": "markdown",
   "id": "a1a08db8",
   "metadata": {},
   "source": [
    "# Function to test robustness"
   ]
  },
  {
   "cell_type": "code",
   "execution_count": 8,
   "id": "a9784793",
   "metadata": {},
   "outputs": [],
   "source": [
    "def test_f_robustness(adata_sc, adata_st, target_count, n_iter=10, n_epochs=500, device=\"cpu\"):\n",
    "    \"\"\"\n",
    "    Function runs tg n_iter times on the same data and returns np array with all the filter values.\n",
    "    We want to see if the same cells are chosen by the filter.\n",
    "    pp_adatas needs to be run before calling this function.\n",
    "    \"\"\"\n",
    "\n",
    "    f_ls = np.zeros((n_iter, adata_sc.shape[0]))  # np array where all computed filters will be stored.\n",
    "    \n",
    "    for i in range(n_iter):\n",
    "        print(f\"Executing Tangram iter {i}\")\n",
    "        ad_map = tg.map_cells_to_space(adata_sc, adata_st,\n",
    "        mode=\"constrained\",  \n",
    "        density_prior='rna_count_based',\n",
    "        target_count=target_count,\n",
    "        lambda_d = 0.89,\n",
    "        lambda_g2 = 0.99,\n",
    "        num_epochs=n_epochs,\n",
    "        device=device,\n",
    "        )\n",
    "        \n",
    "        f_ls[i,:]=ad_map.obs[\"F_out\"].values\n",
    "        \n",
    "    return np.vstack(f_ls)\n",
    "        \n",
    "        "
   ]
  },
  {
   "cell_type": "code",
   "execution_count": 9,
   "id": "444f9dbb",
   "metadata": {},
   "outputs": [
    {
     "name": "stderr",
     "output_type": "stream",
     "text": [
      "INFO:root:Allocate tensors for mapping.\n",
      "INFO:root:Begin training with 760 genes and rna_count_based density_prior in constrained mode...\n"
     ]
    },
    {
     "name": "stdout",
     "output_type": "stream",
     "text": [
      "Executing Tangram iter 0\n",
      "Score: 0.629, VG reg: 0.151, KL reg: 0.098, Count reg: 1.607, Lambda f reg: 102.667\n",
      "Score: 0.805, VG reg: 0.162, KL reg: 0.001, Count reg: 0.242, Lambda f reg: 16.070\n",
      "Score: 0.805, VG reg: 0.162, KL reg: 0.001, Count reg: 0.016, Lambda f reg: 3.968\n",
      "Score: 0.805, VG reg: 0.162, KL reg: 0.001, Count reg: 0.001, Lambda f reg: 2.295\n",
      "Score: 0.805, VG reg: 0.163, KL reg: 0.001, Count reg: 0.000, Lambda f reg: 1.739\n"
     ]
    },
    {
     "name": "stderr",
     "output_type": "stream",
     "text": [
      "INFO:root:Saving results..\n",
      "INFO:root:Allocate tensors for mapping.\n",
      "INFO:root:Begin training with 760 genes and rna_count_based density_prior in constrained mode...\n"
     ]
    },
    {
     "name": "stdout",
     "output_type": "stream",
     "text": [
      "Executing Tangram iter 1\n",
      "Score: 0.628, VG reg: 0.152, KL reg: 0.099, Count reg: 1.712, Lambda f reg: 102.863\n",
      "Score: 0.805, VG reg: 0.164, KL reg: 0.001, Count reg: 0.039, Lambda f reg: 15.194\n",
      "Score: 0.805, VG reg: 0.165, KL reg: 0.001, Count reg: 0.019, Lambda f reg: 3.764\n",
      "Score: 0.805, VG reg: 0.165, KL reg: 0.001, Count reg: 0.001, Lambda f reg: 1.865\n",
      "Score: 0.805, VG reg: 0.165, KL reg: 0.001, Count reg: 0.000, Lambda f reg: 1.176\n"
     ]
    },
    {
     "name": "stderr",
     "output_type": "stream",
     "text": [
      "INFO:root:Saving results..\n",
      "INFO:root:Allocate tensors for mapping.\n",
      "INFO:root:Begin training with 760 genes and rna_count_based density_prior in constrained mode...\n"
     ]
    },
    {
     "name": "stdout",
     "output_type": "stream",
     "text": [
      "Executing Tangram iter 2\n",
      "Score: 0.630, VG reg: 0.152, KL reg: 0.098, Count reg: 7.114, Lambda f reg: 102.208\n",
      "Score: 0.805, VG reg: 0.165, KL reg: 0.001, Count reg: 0.049, Lambda f reg: 14.810\n",
      "Score: 0.805, VG reg: 0.165, KL reg: 0.001, Count reg: 0.003, Lambda f reg: 3.888\n",
      "Score: 0.805, VG reg: 0.165, KL reg: 0.001, Count reg: 0.001, Lambda f reg: 1.874\n",
      "Score: 0.804, VG reg: 0.165, KL reg: 0.001, Count reg: 0.000, Lambda f reg: 1.159\n"
     ]
    },
    {
     "name": "stderr",
     "output_type": "stream",
     "text": [
      "INFO:root:Saving results..\n",
      "INFO:root:Allocate tensors for mapping.\n",
      "INFO:root:Begin training with 760 genes and rna_count_based density_prior in constrained mode...\n"
     ]
    },
    {
     "name": "stdout",
     "output_type": "stream",
     "text": [
      "Executing Tangram iter 3\n",
      "Score: 0.629, VG reg: 0.152, KL reg: 0.099, Count reg: 0.975, Lambda f reg: 102.506\n",
      "Score: 0.804, VG reg: 0.165, KL reg: 0.001, Count reg: 0.168, Lambda f reg: 14.420\n",
      "Score: 0.804, VG reg: 0.166, KL reg: 0.001, Count reg: 0.012, Lambda f reg: 3.967\n",
      "Score: 0.804, VG reg: 0.166, KL reg: 0.001, Count reg: 0.008, Lambda f reg: 2.234\n",
      "Score: 0.804, VG reg: 0.167, KL reg: 0.001, Count reg: 0.004, Lambda f reg: 1.708\n"
     ]
    },
    {
     "name": "stderr",
     "output_type": "stream",
     "text": [
      "INFO:root:Saving results..\n",
      "INFO:root:Allocate tensors for mapping.\n",
      "INFO:root:Begin training with 760 genes and rna_count_based density_prior in constrained mode...\n"
     ]
    },
    {
     "name": "stdout",
     "output_type": "stream",
     "text": [
      "Executing Tangram iter 4\n",
      "Score: 0.632, VG reg: 0.153, KL reg: 0.097, Count reg: 0.910, Lambda f reg: 103.604\n",
      "Score: 0.804, VG reg: 0.165, KL reg: 0.001, Count reg: 0.094, Lambda f reg: 14.405\n",
      "Score: 0.804, VG reg: 0.165, KL reg: 0.001, Count reg: 0.018, Lambda f reg: 4.127\n",
      "Score: 0.803, VG reg: 0.165, KL reg: 0.001, Count reg: 0.004, Lambda f reg: 1.938\n",
      "Score: 0.803, VG reg: 0.165, KL reg: 0.001, Count reg: 0.000, Lambda f reg: 1.179\n"
     ]
    },
    {
     "name": "stderr",
     "output_type": "stream",
     "text": [
      "INFO:root:Saving results..\n",
      "INFO:root:Allocate tensors for mapping.\n",
      "INFO:root:Begin training with 760 genes and rna_count_based density_prior in constrained mode...\n"
     ]
    },
    {
     "name": "stdout",
     "output_type": "stream",
     "text": [
      "Executing Tangram iter 5\n",
      "Score: 0.630, VG reg: 0.152, KL reg: 0.100, Count reg: 0.674, Lambda f reg: 103.814\n",
      "Score: 0.805, VG reg: 0.165, KL reg: 0.001, Count reg: 0.018, Lambda f reg: 14.906\n",
      "Score: 0.805, VG reg: 0.166, KL reg: 0.001, Count reg: 0.007, Lambda f reg: 3.766\n",
      "Score: 0.804, VG reg: 0.166, KL reg: 0.001, Count reg: 0.001, Lambda f reg: 1.863\n",
      "Score: 0.804, VG reg: 0.166, KL reg: 0.001, Count reg: 0.001, Lambda f reg: 1.176\n"
     ]
    },
    {
     "name": "stderr",
     "output_type": "stream",
     "text": [
      "INFO:root:Saving results..\n",
      "INFO:root:Allocate tensors for mapping.\n",
      "INFO:root:Begin training with 760 genes and rna_count_based density_prior in constrained mode...\n"
     ]
    },
    {
     "name": "stdout",
     "output_type": "stream",
     "text": [
      "Executing Tangram iter 6\n",
      "Score: 0.627, VG reg: 0.152, KL reg: 0.100, Count reg: 6.197, Lambda f reg: 103.496\n",
      "Score: 0.803, VG reg: 0.164, KL reg: 0.001, Count reg: 0.091, Lambda f reg: 14.579\n",
      "Score: 0.803, VG reg: 0.165, KL reg: 0.001, Count reg: 0.002, Lambda f reg: 4.744\n",
      "Score: 0.803, VG reg: 0.165, KL reg: 0.001, Count reg: 0.015, Lambda f reg: 3.065\n",
      "Score: 0.803, VG reg: 0.165, KL reg: 0.001, Count reg: 0.007, Lambda f reg: 2.557\n"
     ]
    },
    {
     "name": "stderr",
     "output_type": "stream",
     "text": [
      "INFO:root:Saving results..\n",
      "INFO:root:Allocate tensors for mapping.\n",
      "INFO:root:Begin training with 760 genes and rna_count_based density_prior in constrained mode...\n"
     ]
    },
    {
     "name": "stdout",
     "output_type": "stream",
     "text": [
      "Executing Tangram iter 7\n",
      "Score: 0.628, VG reg: 0.152, KL reg: 0.099, Count reg: 6.571, Lambda f reg: 104.111\n",
      "Score: 0.804, VG reg: 0.165, KL reg: 0.001, Count reg: 0.051, Lambda f reg: 15.131\n",
      "Score: 0.804, VG reg: 0.165, KL reg: 0.001, Count reg: 0.002, Lambda f reg: 3.720\n",
      "Score: 0.804, VG reg: 0.166, KL reg: 0.001, Count reg: 0.002, Lambda f reg: 1.880\n",
      "Score: 0.804, VG reg: 0.166, KL reg: 0.001, Count reg: 0.000, Lambda f reg: 1.189\n"
     ]
    },
    {
     "name": "stderr",
     "output_type": "stream",
     "text": [
      "INFO:root:Saving results..\n",
      "INFO:root:Allocate tensors for mapping.\n",
      "INFO:root:Begin training with 760 genes and rna_count_based density_prior in constrained mode...\n"
     ]
    },
    {
     "name": "stdout",
     "output_type": "stream",
     "text": [
      "Executing Tangram iter 8\n",
      "Score: 0.628, VG reg: 0.152, KL reg: 0.098, Count reg: 5.216, Lambda f reg: 101.062\n",
      "Score: 0.805, VG reg: 0.163, KL reg: 0.001, Count reg: 0.072, Lambda f reg: 14.459\n",
      "Score: 0.805, VG reg: 0.164, KL reg: 0.001, Count reg: 0.005, Lambda f reg: 3.760\n",
      "Score: 0.805, VG reg: 0.164, KL reg: 0.001, Count reg: 0.002, Lambda f reg: 1.821\n",
      "Score: 0.805, VG reg: 0.164, KL reg: 0.001, Count reg: 0.000, Lambda f reg: 1.142\n"
     ]
    },
    {
     "name": "stderr",
     "output_type": "stream",
     "text": [
      "INFO:root:Saving results..\n",
      "INFO:root:Allocate tensors for mapping.\n",
      "INFO:root:Begin training with 760 genes and rna_count_based density_prior in constrained mode...\n"
     ]
    },
    {
     "name": "stdout",
     "output_type": "stream",
     "text": [
      "Executing Tangram iter 9\n",
      "Score: 0.628, VG reg: 0.153, KL reg: 0.099, Count reg: 3.265, Lambda f reg: 102.991\n",
      "Score: 0.805, VG reg: 0.165, KL reg: 0.001, Count reg: 0.076, Lambda f reg: 15.358\n",
      "Score: 0.805, VG reg: 0.166, KL reg: 0.001, Count reg: 0.013, Lambda f reg: 4.109\n",
      "Score: 0.805, VG reg: 0.166, KL reg: 0.001, Count reg: 0.002, Lambda f reg: 2.198\n",
      "Score: 0.805, VG reg: 0.166, KL reg: 0.001, Count reg: 0.001, Lambda f reg: 1.248\n"
     ]
    },
    {
     "name": "stderr",
     "output_type": "stream",
     "text": [
      "INFO:root:Saving results..\n"
     ]
    }
   ],
   "source": [
    "filter_results = test_f_robustness(adata_sc, adata_st, target_count=250)"
   ]
  },
  {
   "cell_type": "code",
   "execution_count": 10,
   "id": "86383147",
   "metadata": {},
   "outputs": [],
   "source": [
    "similarity_matrix = cosine_similarity(filter_results)"
   ]
  },
  {
   "cell_type": "code",
   "execution_count": 11,
   "id": "47b622f1",
   "metadata": {},
   "outputs": [],
   "source": [
    "distance_matrix = euclidean_distances(filter_results)"
   ]
  },
  {
   "cell_type": "code",
   "execution_count": 12,
   "id": "e8af690b",
   "metadata": {},
   "outputs": [
    {
     "data": {
      "text/plain": [
       "4.7496946377991405"
      ]
     },
     "execution_count": 12,
     "metadata": {},
     "output_type": "execute_result"
    }
   ],
   "source": [
    "distance_matrix.std()"
   ]
  },
  {
   "cell_type": "code",
   "execution_count": 13,
   "id": "0d064932",
   "metadata": {},
   "outputs": [],
   "source": [
    "row_mean = filter_results.mean(axis=0)\n",
    "mse = ((filter_results - row_mean) ** 2).mean()"
   ]
  },
  {
   "cell_type": "code",
   "execution_count": 14,
   "id": "bf493420",
   "metadata": {},
   "outputs": [
    {
     "data": {
      "text/plain": [
       "0.22426598290288452"
      ]
     },
     "execution_count": 14,
     "metadata": {},
     "output_type": "execute_result"
    }
   ],
   "source": [
    "mse"
   ]
  },
  {
   "cell_type": "code",
   "execution_count": 15,
   "id": "5c2e8558",
   "metadata": {},
   "outputs": [
    {
     "name": "stdout",
     "output_type": "stream",
     "text": [
      "Similarity metrics written to: results/similarity_metrics.txt\n",
      "Filter results written to: results/filter_results.csv\n"
     ]
    }
   ],
   "source": [
    "# Compute metrics\n",
    "cos_sim = cosine_similarity(filter_results)\n",
    "eucl_dist = euclidean_distances(filter_results)\n",
    "mean_row = filter_results.mean(axis=0)\n",
    "mse = np.mean([mean_squared_error(row, mean_row) for row in filter_results])\n",
    "\n",
    "# Get summary statistics\n",
    "cos_sim_mean = np.mean(cos_sim[np.triu_indices_from(cos_sim, k=1)])  # exclude diagonal\n",
    "eucl_dist_mean = np.mean(eucl_dist[np.triu_indices_from(eucl_dist, k=1)])\n",
    "\n",
    "# === Create and write metrics to text file\n",
    "metrics_filename = 'results/similarity_metrics.txt'\n",
    "with open(metrics_filename, 'w') as f:\n",
    "    f.write(\"=== Similarity Metrics Report ===\\n\")\n",
    "    f.write(f\"Mean Cosine Similarity (off-diagonal): {cos_sim_mean:.4f}\\n\")\n",
    "    f.write(f\"Mean Euclidean Distance (off-diagonal): {eucl_dist_mean:.4f}\\n\")\n",
    "    f.write(f\"Mean Squared Error (MSE to mean row): {mse:.4f}\\n\")\n",
    "\n",
    "print(f\"Similarity metrics written to: {metrics_filename}\")\n",
    "\n",
    "# === Save filter_results to CSV\n",
    "filter_results_df = pd.DataFrame(filter_results)\n",
    "\n",
    "filter_results_filename = 'results/filter_results.csv'\n",
    "filter_results_df.to_csv(filter_results_filename, index=False)\n",
    "\n",
    "print(f\"Filter results written to: {filter_results_filename}\")"
   ]
  },
  {
   "cell_type": "code",
   "execution_count": 16,
   "id": "d156d2eb",
   "metadata": {},
   "outputs": [
    {
     "data": {
      "image/png": "[encoded data removed]",
      "text/plain": [
       "<Figure size 1000x800 with 2 Axes>"
      ]
     },
     "metadata": {},
     "output_type": "display_data"
    },
    {
     "data": {
      "image/png": "[encoded data removed]",
      "text/plain": [
       "<Figure size 1000x800 with 2 Axes>"
      ]
     },
     "metadata": {},
     "output_type": "display_data"
    }
   ],
   "source": [
    "# ----- 1. Cosine Similarity -----\n",
    "plt.figure(figsize=(10, 8))\n",
    "sns.heatmap(cos_sim, cmap='viridis', xticklabels=False, yticklabels=False)\n",
    "plt.title('Cosine Similarity Between Rows')\n",
    "plt.xlabel('Row Index')\n",
    "plt.ylabel('Row Index')\n",
    "plt.tight_layout()\n",
    "plt.savefig('results/similarity_f_consistency.png')\n",
    "plt.show()\n",
    "\n",
    "# ----- 2. Euclidean Distance -----\n",
    "plt.figure(figsize=(10, 8))\n",
    "sns.heatmap(eucl_dist, cmap='magma_r', xticklabels=False, yticklabels=False)\n",
    "plt.title('Euclidean Distance Between Rows')\n",
    "plt.xlabel('Row Index')\n",
    "plt.ylabel('Row Index')\n",
    "plt.tight_layout()\n",
    "plt.savefig('results/eucliandist_f_consistency.png')\n",
    "plt.show()"
   ]
  }
 ],
 "metadata": {
  "kernelspec": {
   "display_name": "Python [conda env:tangram-env] *",
   "language": "python",
   "name": "conda-env-tangram-env-py"
  },
  "language_info": {
   "codemirror_mode": {
    "name": "ipython",
    "version": 3
   },
   "file_extension": ".py",
   "mimetype": "text/x-python",
   "name": "python",
   "nbconvert_exporter": "python",
   "pygments_lexer": "ipython3",
   "version": "3.8.20"
  }
 },
 "nbformat": 4,
 "nbformat_minor": 5
}
