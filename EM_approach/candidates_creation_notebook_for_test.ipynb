{
 "cells": [
  {
   "cell_type": "code",
   "execution_count": 1,
   "id": "b34e74d5",
   "metadata": {},
   "outputs": [
    {
     "name": "stderr",
     "output_type": "stream",
     "text": [
      "/home/apon/anaconda3/envs/tangram-env/lib/python3.8/site-packages/tqdm/auto.py:21: TqdmWarning: IProgress not found. Please update jupyter and ipywidgets. See https://ipywidgets.readthedocs.io/en/stable/user_install.html\n",
      "  from .autonotebook import tqdm as notebook_tqdm\n"
     ]
    }
   ],
   "source": [
    "import scanpy as sc\n",
    "import squidpy as sq\n",
    "import numpy as np\n",
    "import pandas as pd\n",
    "from anndata import AnnData\n",
    "import pathlib\n",
    "import matplotlib.pyplot as plt\n",
    "import matplotlib as mpl\n",
    "import skimage\n",
    "import seaborn as sns\n",
    "import tangram as tg\n",
    "\n",
    "%load_ext autoreload\n",
    "%autoreload 2\n",
    "%matplotlib inline"
   ]
  },
  {
   "cell_type": "code",
   "execution_count": 1,
   "id": "827fe181",
   "metadata": {},
   "outputs": [
    {
     "name": "stdout",
     "output_type": "stream",
     "text": [
      "/home/apon/thesis/EM_approach\r\n"
     ]
    }
   ],
   "source": [
    "!pwd"
   ]
  },
  {
   "cell_type": "markdown",
   "id": "b46d5434",
   "metadata": {},
   "source": [
    "# Load data"
   ]
  },
  {
   "cell_type": "code",
   "execution_count": 2,
   "id": "d37e9e0d",
   "metadata": {},
   "outputs": [],
   "source": [
    "adata_st = sc.read('../lucas_data/Visium_Mouse_Brain_SPAPROS_filtered_celltypes_annotated.h5ad')\n",
    "\n",
    "adata_sc = sc.read('../lucas_data/SC_REF_for_VISIUM_preprocessed.h5ad')"
   ]
  },
  {
   "cell_type": "code",
   "execution_count": 3,
   "id": "97b75536",
   "metadata": {},
   "outputs": [
    {
     "name": "stderr",
     "output_type": "stream",
     "text": [
      "INFO:root:762 training genes are saved in `uns``training_genes` of both single cell and spatial Anndatas.\n",
      "INFO:root:762 overlapped genes are saved in `uns``overlap_genes` of both single cell and spatial Anndatas.\n",
      "INFO:root:uniform based density prior is calculated and saved in `obs``uniform_density` of the spatial Anndata.\n",
      "INFO:root:rna count based density prior is calculated and saved in `obs``rna_count_based_density` of the spatial Anndata.\n"
     ]
    }
   ],
   "source": [
    "tg.pp_adatas(adata_sc, adata_st, genes=None) #prepare for mapping."
   ]
  },
  {
   "cell_type": "markdown",
   "id": "b071ee70",
   "metadata": {},
   "source": [
    "# Run Tg and get candidates for EM "
   ]
  },
  {
   "cell_type": "code",
   "execution_count": 5,
   "id": "c8104c40",
   "metadata": {},
   "outputs": [
    {
     "name": "stderr",
     "output_type": "stream",
     "text": [
      "INFO:root:Allocate tensors for mapping.\n",
      "INFO:root:Begin training with 762 genes and rna_count_based density_prior in cells mode...\n",
      "INFO:root:Printing scores every 100 epochs.\n"
     ]
    },
    {
     "name": "stdout",
     "output_type": "stream",
     "text": [
      "Score: 0.653, VG reg: 0.152, KL reg: 0.086\n",
      "Score: 0.844, VG reg: 0.198, KL reg: 0.003\n",
      "Score: 0.851, VG reg: 0.204, KL reg: 0.002\n",
      "Score: 0.852, VG reg: 0.205, KL reg: 0.002\n"
     ]
    },
    {
     "name": "stderr",
     "output_type": "stream",
     "text": [
      "INFO:root:Saving results..\n"
     ]
    }
   ],
   "source": [
    "ad_map = tg.map_cells_to_space(adata_sc,\n",
    "                        adata_st,\n",
    "                        mode=\"cells\",  \n",
    "                        density_prior='rna_count_based',\n",
    "                        lambda_d = 0.89,\n",
    "                        lambda_g2 = 0.99,\n",
    "                        num_epochs=350,\n",
    "                        device=\"cpu\",\n",
    "                        )"
   ]
  },
  {
   "cell_type": "code",
   "execution_count": 14,
   "id": "eb7b0c9e",
   "metadata": {},
   "outputs": [],
   "source": [
    "def create_candidates(adata_sc, adata_st, n_iter, p_thresh):\n",
    "    \n",
    "    candidates = np.zeros(shape = (adata_sc.shape[0], adata_st.shape[0]), dtype = int) #matrix to store candidates\n",
    "    \n",
    "    for _ in range(n_iter):\n",
    "        ad_map = tg.map_cells_to_space(adata_sc,\n",
    "                        adata_st,\n",
    "                        mode=\"cells\",  \n",
    "                        density_prior='rna_count_based',\n",
    "                        lambda_d = 0.89,\n",
    "                        lambda_g2 = 0.99,\n",
    "                        num_epochs=350,\n",
    "                        device=\"cpu\",\n",
    "                        )\n",
    "        \n",
    "        candidates = np.add(candidates, (ad_map.X > p_thresh).astype(int))\n",
    "    \n",
    "    return (candidates > 0).astype(int)\n",
    "\n",
    "    "
   ]
  },
  {
   "cell_type": "code",
   "execution_count": 15,
   "id": "a997a148",
   "metadata": {},
   "outputs": [
    {
     "name": "stderr",
     "output_type": "stream",
     "text": [
      "INFO:root:Allocate tensors for mapping.\n",
      "INFO:root:Begin training with 762 genes and rna_count_based density_prior in cells mode...\n",
      "INFO:root:Printing scores every 100 epochs.\n"
     ]
    },
    {
     "name": "stdout",
     "output_type": "stream",
     "text": [
      "Score: 0.653, VG reg: 0.152, KL reg: 0.086\n",
      "Score: 0.844, VG reg: 0.198, KL reg: 0.003\n",
      "Score: 0.851, VG reg: 0.204, KL reg: 0.002\n",
      "Score: 0.852, VG reg: 0.205, KL reg: 0.002\n"
     ]
    },
    {
     "name": "stderr",
     "output_type": "stream",
     "text": [
      "INFO:root:Saving results..\n",
      "INFO:root:Allocate tensors for mapping.\n",
      "INFO:root:Begin training with 762 genes and rna_count_based density_prior in cells mode...\n",
      "INFO:root:Printing scores every 100 epochs.\n"
     ]
    },
    {
     "name": "stdout",
     "output_type": "stream",
     "text": [
      "Score: 0.653, VG reg: 0.152, KL reg: 0.086\n",
      "Score: 0.844, VG reg: 0.198, KL reg: 0.003\n",
      "Score: 0.851, VG reg: 0.204, KL reg: 0.002\n",
      "Score: 0.852, VG reg: 0.205, KL reg: 0.002\n"
     ]
    },
    {
     "name": "stderr",
     "output_type": "stream",
     "text": [
      "INFO:root:Saving results..\n"
     ]
    }
   ],
   "source": [
    "candidates = create_candidates(adata_sc, adata_st, n_iter = 2, p_thresh = 0.9)"
   ]
  },
  {
   "cell_type": "code",
   "execution_count": 23,
   "id": "65b66b7f",
   "metadata": {},
   "outputs": [
    {
     "name": "stdout",
     "output_type": "stream",
     "text": [
      "86\n"
     ]
    }
   ],
   "source": [
    "print(candidates.sum(axis=1).sum())"
   ]
  },
  {
   "cell_type": "code",
   "execution_count": null,
   "id": "878a01fb",
   "metadata": {},
   "outputs": [],
   "source": [
    "np.save(\"output.npy\", your_array)"
   ]
  }
 ],
 "metadata": {
  "kernelspec": {
   "display_name": "Python [conda env:tangram-env] *",
   "language": "python",
   "name": "conda-env-tangram-env-py"
  },
  "language_info": {
   "codemirror_mode": {
    "name": "ipython",
    "version": 3
   },
   "file_extension": ".py",
   "mimetype": "text/x-python",
   "name": "python",
   "nbconvert_exporter": "python",
   "pygments_lexer": "ipython3",
   "version": "3.8.20"
  }
 },
 "nbformat": 4,
 "nbformat_minor": 5
}
